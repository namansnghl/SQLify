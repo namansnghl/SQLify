{
 "cells": [
  {
   "cell_type": "code",
   "execution_count": 1,
   "id": "11351327",
   "metadata": {
    "scrolled": true
   },
   "outputs": [
    {
     "name": "stderr",
     "output_type": "stream",
     "text": [
      "/Users/nmnsnghl/anaconda3/envs/torch_temp/lib/python3.10/site-packages/tqdm/auto.py:21: TqdmWarning: IProgress not found. Please update jupyter and ipywidgets. See https://ipywidgets.readthedocs.io/en/stable/user_install.html\n",
      "  from .autonotebook import tqdm as notebook_tqdm\n"
     ]
    }
   ],
   "source": [
    "import pandas as pd\n",
    "import torch\n",
    "from transformers import BertTokenizer, BertModel\n",
    "from sklearn.metrics.pairwise import cosine_similarity\n",
    "from datasets import load_dataset"
   ]
  },
  {
   "cell_type": "code",
   "execution_count": 3,
   "id": "ad64b9fd",
   "metadata": {},
   "outputs": [],
   "source": [
    "pd.set_option('mode.chained_assignment', None)"
   ]
  },
  {
   "cell_type": "code",
   "execution_count": 4,
   "id": "3266b631",
   "metadata": {},
   "outputs": [],
   "source": [
    "train_data = load_dataset('wikisql', split='train')\n",
    "test_data = load_dataset('wikisql', split='test')\n",
    "val_data = load_dataset('wikisql', split='validation')"
   ]
  },
  {
   "cell_type": "code",
   "execution_count": 5,
   "id": "0b553f56",
   "metadata": {},
   "outputs": [],
   "source": [
    "train_data = train_data.to_pandas()\n",
    "test_data = test_data.to_pandas()\n",
    "val_data = val_data.to_pandas()"
   ]
  },
  {
   "cell_type": "markdown",
   "id": "9e189690",
   "metadata": {},
   "source": [
    "## Feature extraction"
   ]
  },
  {
   "cell_type": "code",
   "execution_count": 6,
   "id": "f0f5a078",
   "metadata": {},
   "outputs": [],
   "source": [
    "def fetch_SQL(dict_sql, col_to_fetch):\n",
    "    return dict_sql[col_to_fetch]"
   ]
  },
  {
   "cell_type": "code",
   "execution_count": 7,
   "id": "b561de54",
   "metadata": {},
   "outputs": [],
   "source": [
    "train_data['query'] = train_data.sql.apply(lambda x: fetch_SQL(x, 'human_readable'))\n",
    "test_data['query'] = test_data.sql.apply(lambda x: fetch_SQL(x, 'human_readable'))\n",
    "val_data['query'] = val_data.sql.apply(lambda x: fetch_SQL(x, 'human_readable'))"
   ]
  },
  {
   "cell_type": "code",
   "execution_count": 8,
   "id": "53079704",
   "metadata": {},
   "outputs": [],
   "source": [
    "final_train_data = train_data[['question', 'query']]\n",
    "final_test_data = test_data[['question', 'query']]\n",
    "final_val_data = val_data[['question', 'query']]"
   ]
  },
  {
   "cell_type": "code",
   "execution_count": 9,
   "id": "70dc21fb",
   "metadata": {
    "scrolled": true
   },
   "outputs": [
    {
     "data": {
      "text/html": [
       "<div>\n",
       "<style scoped>\n",
       "    .dataframe tbody tr th:only-of-type {\n",
       "        vertical-align: middle;\n",
       "    }\n",
       "\n",
       "    .dataframe tbody tr th {\n",
       "        vertical-align: top;\n",
       "    }\n",
       "\n",
       "    .dataframe thead th {\n",
       "        text-align: right;\n",
       "    }\n",
       "</style>\n",
       "<table border=\"1\" class=\"dataframe\">\n",
       "  <thead>\n",
       "    <tr style=\"text-align: right;\">\n",
       "      <th></th>\n",
       "      <th>question</th>\n",
       "      <th>query</th>\n",
       "    </tr>\n",
       "  </thead>\n",
       "  <tbody>\n",
       "    <tr>\n",
       "      <th>0</th>\n",
       "      <td>Tell me what the notes are for South Australia</td>\n",
       "      <td>SELECT Notes FROM table WHERE Current slogan =...</td>\n",
       "    </tr>\n",
       "    <tr>\n",
       "      <th>1</th>\n",
       "      <td>What is the current series where the new serie...</td>\n",
       "      <td>SELECT Current series FROM table WHERE Notes =...</td>\n",
       "    </tr>\n",
       "    <tr>\n",
       "      <th>2</th>\n",
       "      <td>What is the format for South Australia?</td>\n",
       "      <td>SELECT Format FROM table WHERE State/territory...</td>\n",
       "    </tr>\n",
       "    <tr>\n",
       "      <th>3</th>\n",
       "      <td>Name the background colour for the Australian ...</td>\n",
       "      <td>SELECT Text/background colour FROM table WHERE...</td>\n",
       "    </tr>\n",
       "    <tr>\n",
       "      <th>4</th>\n",
       "      <td>how many times is the fuel propulsion is cng?</td>\n",
       "      <td>SELECT COUNT Fleet Series (Quantity) FROM tabl...</td>\n",
       "    </tr>\n",
       "    <tr>\n",
       "      <th>...</th>\n",
       "      <td>...</td>\n",
       "      <td>...</td>\n",
       "    </tr>\n",
       "    <tr>\n",
       "      <th>56350</th>\n",
       "      <td>What time was the match played with a score of...</td>\n",
       "      <td>SELECT Time FROM table WHERE Score = 3-2</td>\n",
       "    </tr>\n",
       "    <tr>\n",
       "      <th>56351</th>\n",
       "      <td>On which ground did the team play Aston Villa?</td>\n",
       "      <td>SELECT Ground FROM table WHERE Opponent = asto...</td>\n",
       "    </tr>\n",
       "    <tr>\n",
       "      <th>56352</th>\n",
       "      <td>What kind of competition was it at San Siro at...</td>\n",
       "      <td>SELECT Competition FROM table WHERE Ground = s...</td>\n",
       "    </tr>\n",
       "    <tr>\n",
       "      <th>56353</th>\n",
       "      <td>What is the total number of decile for the red...</td>\n",
       "      <td>SELECT COUNT Decile FROM table WHERE Name = re...</td>\n",
       "    </tr>\n",
       "    <tr>\n",
       "      <th>56354</th>\n",
       "      <td>Which report includes a Circuit of Tripoli?</td>\n",
       "      <td>SELECT Report FROM table WHERE Circuit = tripoli</td>\n",
       "    </tr>\n",
       "  </tbody>\n",
       "</table>\n",
       "<p>56355 rows × 2 columns</p>\n",
       "</div>"
      ],
      "text/plain": [
       "                                                question  \\\n",
       "0        Tell me what the notes are for South Australia    \n",
       "1      What is the current series where the new serie...   \n",
       "2                What is the format for South Australia?   \n",
       "3      Name the background colour for the Australian ...   \n",
       "4          how many times is the fuel propulsion is cng?   \n",
       "...                                                  ...   \n",
       "56350  What time was the match played with a score of...   \n",
       "56351     On which ground did the team play Aston Villa?   \n",
       "56352  What kind of competition was it at San Siro at...   \n",
       "56353  What is the total number of decile for the red...   \n",
       "56354        Which report includes a Circuit of Tripoli?   \n",
       "\n",
       "                                                   query  \n",
       "0      SELECT Notes FROM table WHERE Current slogan =...  \n",
       "1      SELECT Current series FROM table WHERE Notes =...  \n",
       "2      SELECT Format FROM table WHERE State/territory...  \n",
       "3      SELECT Text/background colour FROM table WHERE...  \n",
       "4      SELECT COUNT Fleet Series (Quantity) FROM tabl...  \n",
       "...                                                  ...  \n",
       "56350           SELECT Time FROM table WHERE Score = 3-2  \n",
       "56351  SELECT Ground FROM table WHERE Opponent = asto...  \n",
       "56352  SELECT Competition FROM table WHERE Ground = s...  \n",
       "56353  SELECT COUNT Decile FROM table WHERE Name = re...  \n",
       "56354   SELECT Report FROM table WHERE Circuit = tripoli  \n",
       "\n",
       "[56355 rows x 2 columns]"
      ]
     },
     "execution_count": 9,
     "metadata": {},
     "output_type": "execute_result"
    }
   ],
   "source": [
    "final_train_data"
   ]
  },
  {
   "cell_type": "markdown",
   "id": "3ef80ec7",
   "metadata": {},
   "source": [
    "## BERT Embedding"
   ]
  },
  {
   "cell_type": "code",
   "execution_count": 10,
   "id": "d657275b",
   "metadata": {},
   "outputs": [],
   "source": [
    "tokenizer = BertTokenizer.from_pretrained('bert-base-uncased')\n",
    "model = BertModel.from_pretrained('bert-base-uncased')"
   ]
  },
  {
   "cell_type": "code",
   "execution_count": 11,
   "id": "2d6ae8b5",
   "metadata": {},
   "outputs": [],
   "source": [
    "def get_bert_embed(data):\n",
    "    embedding = tokenizer.batch_encode_plus(data,\n",
    "                padding=True,              # Pad to the maximum sequence length\n",
    "                truncation=True,           # Truncate to the maximum sequence length if necessary\n",
    "                # return_tensors='pt',      # Return PyTorch tensors\n",
    "                add_special_tokens=True    # Add special tokens CLS and SEP\n",
    "                )\n",
    "    return embedding"
   ]
  },
  {
   "cell_type": "code",
   "execution_count": 12,
   "id": "0f6070b0",
   "metadata": {},
   "outputs": [],
   "source": [
    "final_train_data.loc[:,'Encoded_Question_input_ids'] = pd.Series(get_bert_embed(final_train_data['question'])['input_ids'])\n",
    "final_test_data.loc[:,'Encoded_Question_input_ids'] = pd.Series(get_bert_embed(final_test_data['question'])['input_ids'])\n",
    "final_val_data.loc[:,'Encoded_Question_input_ids'] = pd.Series(get_bert_embed(final_val_data['question'])['input_ids'])\n",
    "\n",
    "final_train_data.loc[:,'Encoded_query_input_ids'] = pd.Series(get_bert_embed(final_train_data['query'])['input_ids'])\n",
    "final_test_data.loc[:,'Encoded_query_input_ids'] = pd.Series(get_bert_embed(final_test_data['query'])['input_ids'])\n",
    "final_val_data.loc[:,'Encoded_query_input_ids'] = pd.Series(get_bert_embed(final_val_data['query'])['input_ids'])"
   ]
  },
  {
   "cell_type": "code",
   "execution_count": 19,
   "id": "d5ae3188",
   "metadata": {
    "scrolled": true
   },
   "outputs": [],
   "source": [
    "training_tensor_X = torch.tensor(final_train_data.Encoded_Question_input_ids)\n",
    "training_tensor_y = torch.tensor(final_train_data.Encoded_query_input_ids)"
   ]
  }
 ],
 "metadata": {
  "kernelspec": {
   "display_name": "torch_temp",
   "language": "python",
   "name": "torch_temp"
  },
  "language_info": {
   "codemirror_mode": {
    "name": "ipython",
    "version": 3
   },
   "file_extension": ".py",
   "mimetype": "text/x-python",
   "name": "python",
   "nbconvert_exporter": "python",
   "pygments_lexer": "ipython3",
   "version": "3.10.13"
  }
 },
 "nbformat": 4,
 "nbformat_minor": 5
}
